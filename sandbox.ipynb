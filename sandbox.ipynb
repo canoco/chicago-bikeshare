{
 "cells": [
  {
   "cell_type": "code",
   "execution_count": 1,
   "metadata": {
    "scrolled": false
   },
   "outputs": [
    {
     "name": "stdout",
     "output_type": "stream",
     "text": [
      "Lendo o documento...\n",
      "Ok!\n",
      "\n",
      "TAREFA 9: Imprimindo o mínimo, máximo, média, e mediana\n",
      "Min:  60.0 Max:  86338.0 Média:  939.7777590146342 Mediana:  670.0\n"
     ]
    }
   ],
   "source": [
    "# coding: utf-8\n",
    "\n",
    "# Começando com os imports\n",
    "import csv\n",
    "import matplotlib.pyplot as plt\n",
    "\n",
    "# Vamos ler os dados como uma lista\n",
    "print(\"Lendo o documento...\")\n",
    "with open(\"chicago.csv\", \"r\") as file_read:\n",
    "    reader = csv.reader(file_read)\n",
    "    data_list = list(reader)\n",
    "print(\"Ok!\")\n",
    "\n",
    "# Vamos mudar o data_list para remover o cabeçalho dele.\n",
    "data_list = data_list[1:]\n",
    "\n",
    "# TAREFA 3\n",
    "# TODO: Crie uma função para adicionar as colunas(features) de uma lista em outra lista, na mesma ordem\n",
    "def column_to_list(data, index):\n",
    "    # Dica: Você pode usar um for para iterar sobre as amostras, pegar a feature pelo seu índice, e dar append para uma lista\n",
    "    column_list = [sample[index] for sample in data]\n",
    "    \n",
    "    return column_list\n",
    "\n",
    "# TAREFA 10\n",
    "# Gênero é fácil porque nós temos apenas algumas opções. E quanto a start_stations? Quantas opções ele tem?\n",
    "# TODO: Verifique quantos tipos de start_stations nós temos, usando set()\n",
    "user_types = set()\n",
    "\n",
    "print(\"\\nTAREFA 10: Imprimindo as start stations:\")\n",
    "print(len(user_types))\n",
    "print(user_types)\n",
    "\n",
    "# ------------ NÃO MUDE NENHUM CÓDIGO AQUI ------------\n",
    "assert len(user_types) == 582, \"TAREFA 10: Comprimento errado de start stations.\"\n",
    "# -----------------------------------------------------\n"
   ]
  }
 ],
 "metadata": {
  "kernelspec": {
   "display_name": "Python 3",
   "language": "python",
   "name": "python3"
  },
  "language_info": {
   "codemirror_mode": {
    "name": "ipython",
    "version": 3
   },
   "file_extension": ".py",
   "mimetype": "text/x-python",
   "name": "python",
   "nbconvert_exporter": "python",
   "pygments_lexer": "ipython3",
   "version": "3.6.5"
  }
 },
 "nbformat": 4,
 "nbformat_minor": 2
}
