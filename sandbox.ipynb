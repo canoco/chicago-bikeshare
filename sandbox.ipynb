{
 "cells": [
  {
   "cell_type": "code",
   "execution_count": 7,
   "metadata": {
    "scrolled": false
   },
   "outputs": [
    {
     "name": "stdout",
     "output_type": "stream",
     "text": [
      "Lendo o documento...\n",
      "Ok!\n",
      "\n",
      "TAREFA 9: Imprimindo o mínimo, máximo, média, e mediana\n",
      "Min:  60.0 Max:  86338.0 Média:  939.7777590146342 Mediana:  670.0\n"
     ]
    }
   ],
   "source": [
    "# coding: utf-8\n",
    "\n",
    "# Começando com os imports\n",
    "import csv\n",
    "import matplotlib.pyplot as plt\n",
    "\n",
    "# Vamos ler os dados como uma lista\n",
    "print(\"Lendo o documento...\")\n",
    "with open(\"chicago.csv\", \"r\") as file_read:\n",
    "    reader = csv.reader(file_read)\n",
    "    data_list = list(reader)\n",
    "print(\"Ok!\")\n",
    "\n",
    "# Vamos mudar o data_list para remover o cabeçalho dele.\n",
    "data_list = data_list[1:]\n",
    "\n",
    "# TAREFA 3\n",
    "# TODO: Crie uma função para adicionar as colunas(features) de uma lista em outra lista, na mesma ordem\n",
    "def column_to_list(data, index):\n",
    "    # Dica: Você pode usar um for para iterar sobre as amostras, pegar a feature pelo seu índice, e dar append para uma lista\n",
    "    column_list = [sample[index] for sample in data]\n",
    "    \n",
    "    return column_list\n",
    "\n",
    "# Vamos trabalhar com trip_duration (duração da viagem) agora. Não conseguimos tirar alguns valores dele.\n",
    "# TAREFA 9\n",
    "# TODO: Ache a duração de viagem Mínima, Máxima, Média, e Mediana.\n",
    "# Você não deve usar funções prontas parTODO isso, como max() e min().\n",
    "trip_duration_list = column_to_list(data_list, 2)\n",
    "stdl = [ float(i) for i in sorted(trip_duration_list, key=float)]\n",
    "min_trip = 0.\n",
    "max_trip = 0.\n",
    "mean_trip = 0.\n",
    "median_trip = 0.\n",
    "\n",
    "min_trip = stdl[0]\n",
    "max_trip = stdl[-1]\n",
    "mean_trip = sum(stdl)/len(stdl)\n",
    "if len(stdl) % 2 == 0:\n",
    "    median_trip = (stdl[len(stdl)//2] + stdl[len(stdl)//2 + 1]) / 2\n",
    "else: \n",
    "    median_trip = stdl[len(stdl)//2]\n",
    "\n",
    "print(\"\\nTAREFA 9: Imprimindo o mínimo, máximo, média, e mediana\")\n",
    "print(\"Min: \", min_trip, \"Max: \", max_trip, \"Média: \", mean_trip, \"Mediana: \", median_trip)\n",
    "\n",
    "# ------------ NÃO MUDE NENHUM CÓDIGO AQUI ------------\n",
    "assert round(min_trip) == 60, \"TAREFA 9: min_trip com resultado errado!\"\n",
    "assert round(max_trip) == 86338, \"TAREFA 9: max_trip com resultado errado!\"\n",
    "assert round(mean_trip) == 940, \"TAREFA 9: mean_trip com resultado errado!\"\n",
    "assert round(median_trip) == 670, \"TAREFA 9: median_trip com resultado errado!\"\n",
    "# -----------------------------------------------------\n"
   ]
  },
  {
   "cell_type": "code",
   "execution_count": null,
   "metadata": {},
   "outputs": [],
   "source": []
  }
 ],
 "metadata": {
  "kernelspec": {
   "display_name": "Python [conda env:py3]",
   "language": "python",
   "name": "conda-env-py3-py"
  },
  "language_info": {
   "codemirror_mode": {
    "name": "ipython",
    "version": 3
   },
   "file_extension": ".py",
   "mimetype": "text/x-python",
   "name": "python",
   "nbconvert_exporter": "python",
   "pygments_lexer": "ipython3",
   "version": "3.6.5"
  }
 },
 "nbformat": 4,
 "nbformat_minor": 2
}
